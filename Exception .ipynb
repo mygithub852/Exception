{
 "cells": [
  {
   "cell_type": "code",
   "execution_count": null,
   "metadata": {},
   "outputs": [],
   "source": [
    "import selenium\n",
    "import pandas as pd\n",
    "from selenium import webdriver\n",
    "import time\n",
    "from selenium.common.exceptions import NoSuchElementException\n",
    "from selenium.common.exceptions import StaleElementReferenceException\n",
    "from selenium.webdriver.support.ui import WebDriverWait\n",
    "from selenium.webdriver.support import expected_conditions as EC\n",
    "from selenium.webdriver.support import expected_conditions as EC\n",
    "from selenium.webdriver.common.by import By\n",
    "from selenium.webdriver.common.keys import Keys\n",
    "from selenium.common.exceptions import SessionNotCreated\n",
    "from selenium.common.exceptions import TimeoutException\n",
    "#from selenium.common.exceptions import [TheNameOfTheExceptionClass]"
   ]
  },
  {
   "cell_type": "markdown",
   "metadata": {},
   "source": [
    "1. Scrape the details of most viewed videos on YouTube from Wikipedia:\n",
    "Url = https://en.wikipedia.org/wiki/List_of_most-viewed_YouTube_videos/\n",
    "You need to find following details:\n",
    "A) Rank\n",
    "B) Name\n",
    "C) Artist\n",
    "D) Upload date\n",
    "E) Views"
   ]
  },
  {
   "cell_type": "code",
   "execution_count": null,
   "metadata": {},
   "outputs": [],
   "source": [
    "driver=webdriver.Chrome('C:/Users/User/Downloads/chromedriver_win32/chromedriver.exe')"
   ]
  },
  {
   "cell_type": "code",
   "execution_count": null,
   "metadata": {},
   "outputs": [],
   "source": [
    "url=\"https://en.wikipedia.org/wiki/List_of_most-viewed_YouTube_videos/\"\n",
    "driver.get(url)\n",
    "rank=driver.find_elements_by_xpath(\"td[@]\")"
   ]
  },
  {
   "cell_type": "code",
   "execution_count": null,
   "metadata": {},
   "outputs": [],
   "source": [
    "try:\n",
    "    Rank =driver.find_elements_by_xpath(\"\")\n",
    "    driver.get(driver.current_url)\n",
    "    time.sleep(3)\n",
    "    print(element.text)\n",
    "    \n",
    "except NoSuchElementException as e:\n",
    "    print(\"exception raised :\",e)\n",
    "    Rank=driver.find_elements_by_xpath(\"\")"
   ]
  },
  {
   "cell_type": "code",
   "execution_count": null,
   "metadata": {},
   "outputs": [],
   "source": [
    "try:\n",
    "    Name=driver.find_elements_by_xpath(\"\")\n",
    "    driver.get(driver.current_url)\n",
    "    time.sleep(3)\n",
    "    print(element.text)\n",
    "    \n",
    "except NoSuchElementException as e:\n",
    "    print(\"exception raised :\",e)\n",
    "    Name=driver.find_elements_by_xpath(\"\")"
   ]
  },
  {
   "cell_type": "code",
   "execution_count": null,
   "metadata": {},
   "outputs": [],
   "source": [
    "try:\n",
    "    Artist=driver.find_elements_by_xpath(\"\")\n",
    "    driver.get(driver.current_url)\n",
    "    time.sleep(3)\n",
    "    print(element.text)\n",
    "    \n",
    "except NoSuchElementException as e:\n",
    "    print(\"exception raised :\",e)\n",
    "    Artist=driver.find_elements_by_xpath(\"\")"
   ]
  },
  {
   "cell_type": "code",
   "execution_count": null,
   "metadata": {},
   "outputs": [],
   "source": [
    "try:\n",
    "    Upload date=driver.find_elements_by_xpath(\"\")\n",
    "    driver.get(driver.current_url)\n",
    "    time.sleep(3)\n",
    "    print(element.text)\n",
    "    \n",
    "except NoSuchElementException as e:\n",
    "    print(\"exception raised :\",e)\n",
    "    Upload date=driver.find_elements_by_xpath(\"\")\n",
    "    "
   ]
  },
  {
   "cell_type": "code",
   "execution_count": null,
   "metadata": {},
   "outputs": [],
   "source": [
    "try:\n",
    "    Views=driver.find_elements_by_xpath(\"\")\n",
    "    driver.get(driver.current_url)\n",
    "    time.sleep(3)\n",
    "    print(element.text)\n",
    "    \n",
    "except NoSuchElementException as e:\n",
    "    print(\"exception raised :\",e)\n",
    "    Views=driver.find_elements_by_xpath(\"\")\n",
    "    "
   ]
  },
  {
   "cell_type": "markdown",
   "metadata": {},
   "source": [
    "2. Scrape the details team India’s international fixtures from bcci.tv.\n",
    "Url = https://www.bcci.tv/.\n",
    "You need to find following details:\n",
    "A) Match title (I.e. 1st ODI)\n",
    "B) Series\n",
    "C) Place\n",
    "D) Date\n",
    "E) Time\n",
    "Note: - From bcci.tv home page you have reach to the international fixture page through code."
   ]
  },
  {
   "cell_type": "code",
   "execution_count": null,
   "metadata": {},
   "outputs": [],
   "source": [
    "url=\"https://www.bcci.tv/\"\n",
    "driver.get(url)"
   ]
  },
  {
   "cell_type": "code",
   "execution_count": null,
   "metadata": {},
   "outputs": [],
   "source": [
    "try:\n",
    "    Match title=driver.find_elements_by_xpath(\"\")\n",
    "    driver.get(driver.current_url)\n",
    "    time.sleep(3)\n",
    "    print(element.text)\n",
    "    \n",
    "except NoSuchElementException as e:\n",
    "    print(\"exception raised :\",e)\n",
    "    Match title=driver.find_elements_by_xpath(\"\")\n",
    "    "
   ]
  },
  {
   "cell_type": "code",
   "execution_count": null,
   "metadata": {},
   "outputs": [],
   "source": [
    "try:\n",
    "    Series=driver.find_elements_by_xpath(\"\")\n",
    "    driver.get(driver.current_url)\n",
    "    time.sleep(3)\n",
    "    print(element.text)\n",
    "    \n",
    "except NoSuchElementException as e:\n",
    "    print(\"exception raised :\",e)\n",
    "    Series=driver.find_elements_by_xpath(\"\")\n",
    "    "
   ]
  },
  {
   "cell_type": "code",
   "execution_count": null,
   "metadata": {},
   "outputs": [],
   "source": [
    "try:\n",
    "    Place=driver.find_elements_by_xpath(\"\")\n",
    "    driver.get(driver.current_url)\n",
    "    time.sleep(3)\n",
    "    print(element.text)\n",
    "    \n",
    "except NoSuchElementException as e:\n",
    "    print(\"exception raised :\",e)\n",
    "    Place=driver.find_elements_by_xpath(\"\")\n",
    "    "
   ]
  },
  {
   "cell_type": "code",
   "execution_count": null,
   "metadata": {},
   "outputs": [],
   "source": [
    "try:\n",
    "    Date=driver.find_elements_by_xpath(\"\")\n",
    "    driver.get(driver.current_url)\n",
    "    time.sleep(3)\n",
    "    print(element.text)\n",
    "    \n",
    "except NoSuchElementException as e:\n",
    "    print(\"exception raised :\",e)\n",
    "    Date=driver.find_elements_by_xpath(\"\")\n",
    "    "
   ]
  },
  {
   "cell_type": "code",
   "execution_count": null,
   "metadata": {},
   "outputs": [],
   "source": [
    "try:\n",
    "    Time Note=driver.find_elements_by_xpath(\"\")\n",
    "    driver.get(driver.current_url)\n",
    "    time.sleep(3)\n",
    "    print(element.text)\n",
    "    \n",
    "except NoSuchElementException as e:\n",
    "    print(\"exception raised :\",e)\n",
    "    Time Note=driver.find_elements_by_xpath(\"\")\n",
    "    "
   ]
  },
  {
   "cell_type": "markdown",
   "metadata": {},
   "source": [
    "3. Scrape the details of selenium exception from guru99.com.\n",
    "Url = https://www.guru99.com/\n",
    "You need to find following details:\n",
    "A) Name\n",
    "B) Description\n",
    "Note: - From guru99 home page you have to reach to selenium exception handling page through code"
   ]
  },
  {
   "cell_type": "code",
   "execution_count": null,
   "metadata": {},
   "outputs": [],
   "source": [
    "url=\"https://www.guru99.com/\"\n",
    "driver.get(url)"
   ]
  },
  {
   "cell_type": "code",
   "execution_count": null,
   "metadata": {},
   "outputs": [],
   "source": [
    "try:\n",
    "    driver=webdriver.chrome('C:/Users/User/Downloads/chromedriver_win32/chromedriver.exe')\n",
    "    driver.get('')\n",
    "    Name =driver.find_elements_by_xpath(\"\")\n",
    "    time.sleep(3)\n",
    "    print(element.text)\n",
    "    \n",
    "except SessionNotCreated as e:\n",
    "    print(\"exception raised :\",e)\n",
    "    driver=webdriver.chrome('C:/Users/User/Downloads/chromedriver_win32/chromedriver.exe')\n",
    "    driver.get('')\n",
    "    Name =driver.find_elements_by_xpath(\"\")"
   ]
  },
  {
   "cell_type": "code",
   "execution_count": null,
   "metadata": {},
   "outputs": [],
   "source": [
    "try:\n",
    "    driver=webdriver.chrome('C:/Users/User/Downloads/chromedriver_win32/chromedriver.exe')\n",
    "    driver.get('')\n",
    "    Description Note=driver.find_elements_by_xpath(\"\")\n",
    "    time.sleep(3)\n",
    "    print(element.text)\n",
    "    \n",
    "except SessionNotCreated as e:\n",
    "    print(\"exception raised :\",e)\n",
    "    driver=webdriver.chrome('C:/Users/User/Downloads/chromedriver_win32/chromedriver.exe')\n",
    "    driver.get('')\n",
    "    Description Note=driver.find_elements_by_xpath(\"\")"
   ]
  },
  {
   "cell_type": "markdown",
   "metadata": {},
   "source": [
    "4. Scrape the details of State-wise GDP of India from statisticstime.com.\n",
    "Url = http://statisticstimes.com/\n",
    "You have to find following details:\n",
    "A) Rank\n",
    "B) State\n",
    "C) GSDP at current price (19-20)\n",
    "D) GSDP at current price (18-19)\n",
    "E) Share(18-19)\n",
    "F) GDP($ billion)\n",
    "Note: - From statisticstimes home page you have to reach to economy page through code.\n"
   ]
  },
  {
   "cell_type": "code",
   "execution_count": null,
   "metadata": {},
   "outputs": [],
   "source": [
    "url=\"http://statisticstimes.com/ \"\n",
    "driver.get(url)"
   ]
  },
  {
   "cell_type": "code",
   "execution_count": null,
   "metadata": {},
   "outputs": [],
   "source": [
    "try:\n",
    "    driver=webdriver.chrome('C:/Users/User/Downloads/chromedriver_win32/chromedriver.exe')\n",
    "    driver.get('')\n",
    "    element=driver.find_elements_by_xpath(\"\")\n",
    "    time.sleep(3)\n",
    "    print(element.text)\n",
    "    \n",
    "except SessionNotCreated as e:\n",
    "    print(\"exception raised :\",e)\n",
    "    driver=webdriver.chrome('C:/Users/User/Downloads/chromedriver_win32/chromedriver.exe')\n",
    "    driver.get('')\n",
    "    Time Note=driver.find_elements_by_xpath(\"\")"
   ]
  },
  {
   "cell_type": "code",
   "execution_count": null,
   "metadata": {},
   "outputs": [],
   "source": [
    "try:\n",
    "    driver=webdriver.chrome('C:/Users/User/Downloads/chromedriver_win32/chromedriver.exe')\n",
    "    driver.get('')\n",
    "    element=driver.find_elements_by_xpath(\"\")\n",
    "    time.sleep(3)\n",
    "    print(element.text)\n",
    "    \n",
    "except SessionNotCreated as e:\n",
    "    print(\"exception raised :\",e)\n",
    "    driver=webdriver.chrome('C:/Users/User/Downloads/chromedriver_win32/chromedriver.exe')\n",
    "    driver.get('')\n",
    "    Time Note=driver.find_elements_by_xpath(\"\")"
   ]
  },
  {
   "cell_type": "markdown",
   "metadata": {},
   "source": [
    "5. Scrape the details of trending repositories on Github.com.\n",
    "Url = https://github.com/\n",
    "You have to find the following details:\n",
    "A) Repository title\n",
    "B) Repository description\n",
    "C) Contributors count\n",
    "D) Language used\n"
   ]
  },
  {
   "cell_type": "code",
   "execution_count": null,
   "metadata": {},
   "outputs": [],
   "source": [
    "url=\" https://github.com/ \"\n",
    "driver.get(url)"
   ]
  },
  {
   "cell_type": "code",
   "execution_count": null,
   "metadata": {},
   "outputs": [],
   "source": [
    "try:\n",
    "    driver=webdriver.chrome('C:/Users/User/Downloads/chromedriver_win32/chromedriver.exe')\n",
    "    driver.get('')\n",
    "    element=driver.find_elements_by_xpath(\"\")\n",
    "    time.sleep(3)\n",
    "    print(element.text)\n",
    "    \n",
    "except SessionNotCreated as e:\n",
    "    print(\"exception raised :\",e)\n",
    "    driver=webdriver.chrome('C:/Users/User/Downloads/chromedriver_win32/chromedriver.exe')\n",
    "    driver.get('')\n",
    "    Time Note=driver.find_elements_by_xpath(\"\")"
   ]
  },
  {
   "cell_type": "markdown",
   "metadata": {},
   "source": [
    "6. Scrape the details of top 100 songs on billboard.com.\n",
    "Url = https://www.billboard.com/\n",
    "You have to find the following details:\n",
    "A) Song name\n",
    "B) Artist name\n",
    "C) Last week rank\n",
    "D) Peak rank\n",
    "E) Weeks on board\n",
    "Note: - From the home page you have to click on the charts option then hot 100-page link through code"
   ]
  },
  {
   "cell_type": "code",
   "execution_count": null,
   "metadata": {},
   "outputs": [],
   "source": [
    "url=\" https://www.billboard.com/\"\n",
    "driver.get(url)"
   ]
  },
  {
   "cell_type": "code",
   "execution_count": null,
   "metadata": {},
   "outputs": [],
   "source": [
    "try:\n",
    "    driver=webdriver.chrome('C:/Users/User/Downloads/chromedriver_win32/chromedriver.exe')\n",
    "    driver.get('')\n",
    "    element=driver.find_elements_by_xpath(\"\")\n",
    "    time.sleep(3)\n",
    "    print(element.text)\n",
    "    \n",
    "except SessionNotCreated as e:\n",
    "    print(\"exception raised :\",e)\n",
    "    driver=webdriver.chrome('C:/Users/User/Downloads/chromedriver_win32/chromedriver.exe')\n",
    "    driver.get('')\n",
    "    Time Note=driver.find_elements_by_xpath(\"\")"
   ]
  },
  {
   "cell_type": "code",
   "execution_count": null,
   "metadata": {},
   "outputs": [],
   "source": [
    "try:\n",
    "    driver=webdriver.chrome('C:/Users/User/Downloads/chromedriver_win32/chromedriver.exe')\n",
    "    driver.get('')\n",
    "    element=driver.find_elements_by_xpath(\"\")\n",
    "    time.sleep(3)\n",
    "    print(element.text)\n",
    "    \n",
    "except SessionNotCreated as e:\n",
    "    print(\"exception raised :\",e)\n",
    "    driver=webdriver.chrome('C:/Users/User/Downloads/chromedriver_win32/chromedriver.exe')\n",
    "    driver.get('')\n",
    "    Time Note=driver.find_elements_by_xpath(\"\")"
   ]
  },
  {
   "cell_type": "code",
   "execution_count": null,
   "metadata": {},
   "outputs": [],
   "source": [
    "try:\n",
    "    driver=webdriver.chrome('C:/Users/User/Downloads/chromedriver_win32/chromedriver.exe')\n",
    "    driver.get('')\n",
    "    element=driver.find_elements_by_xpath(\"\")\n",
    "    time.sleep(3)\n",
    "    print(element.text)\n",
    "    \n",
    "except SessionNotCreated as e:\n",
    "    print(\"exception raised :\",e)\n",
    "    driver=webdriver.chrome('C:/Users/User/Downloads/chromedriver_win32/chromedriver.exe')\n",
    "    driver.get('')\n",
    "    Time Note=driver.find_elements_by_xpath(\"\")"
   ]
  },
  {
   "cell_type": "code",
   "execution_count": null,
   "metadata": {},
   "outputs": [],
   "source": [
    "try:\n",
    "    driver=webdriver.chrome('C:/Users/User/Downloads/chromedriver_win32/chromedriver.exe')\n",
    "    driver.get('')\n",
    "    element=driver.find_elements_by_xpath(\"\")\n",
    "    time.sleep(3)\n",
    "    print(element.text)\n",
    "    \n",
    "except SessionNotCreated as e:\n",
    "    print(\"exception raised :\",e)\n",
    "    driver=webdriver.chrome('C:/Users/User/Downloads/chromedriver_win32/chromedriver.exe')\n",
    "    driver.get('')\n",
    "    Time Note=driver.find_elements_by_xpath(\"\")"
   ]
  },
  {
   "cell_type": "code",
   "execution_count": null,
   "metadata": {},
   "outputs": [],
   "source": [
    "try:\n",
    "    driver=webdriver.chrome('C:/Users/User/Downloads/chromedriver_win32/chromedriver.exe')\n",
    "    driver.get('')\n",
    "    element=driver.find_elements_by_xpath(\"\")\n",
    "    time.sleep(3)\n",
    "    print(element.text)\n",
    "    \n",
    "except SessionNotCreated as e:\n",
    "    print(\"exception raised :\",e)\n",
    "    driver=webdriver.chrome('C:/Users/User/Downloads/chromedriver_win32/chromedriver.exe')\n",
    "    driver.get('')\n",
    "    Time Note=driver.find_elements_by_xpath(\"\")"
   ]
  },
  {
   "cell_type": "code",
   "execution_count": null,
   "metadata": {},
   "outputs": [],
   "source": []
  },
  {
   "cell_type": "markdown",
   "metadata": {},
   "source": [
    "7. Scrape the details of Data science recruiters from naukri.com.\n",
    "Url = https://www.naukri.com/\n",
    "You have to find the following details:\n",
    "A) Name\n",
    "B) Designation\n",
    "C) Company\n",
    "D) Skills they hire for\n",
    "E) Location\n",
    "Note: - From naukri.com homepage click on the recruiters option and the on the search pane type Data science and \n",
    "click on search. All this should be done through code"
   ]
  },
  {
   "cell_type": "code",
   "execution_count": null,
   "metadata": {},
   "outputs": [],
   "source": [
    "url=\" https://www.naukri.com/\"\n",
    "driver.get(url)"
   ]
  },
  {
   "cell_type": "code",
   "execution_count": null,
   "metadata": {},
   "outputs": [],
   "source": [
    "try:\n",
    "    driver=webdriver.chrome('C:/Users/User/Downloads/chromedriver_win32/chromedriver.exe')\n",
    "    driver.get('')\n",
    "    element=driver.find_elements_by_xpath(\"\")\n",
    "    time.sleep(3)\n",
    "    print(element.text)\n",
    "    \n",
    "except SessionNotCreated as e:\n",
    "    print(\"exception raised :\",e)\n",
    "    driver=webdriver.chrome('C:/Users/User/Downloads/chromedriver_win32/chromedriver.exe')\n",
    "    driver.get('')\n",
    "    Time Note=driver.find_elements_by_xpath(\"\")"
   ]
  },
  {
   "cell_type": "code",
   "execution_count": null,
   "metadata": {},
   "outputs": [],
   "source": [
    "try:\n",
    "    driver=webdriver.chrome('C:/Users/User/Downloads/chromedriver_win32/chromedriver.exe')\n",
    "    driver.get('')\n",
    "    element=driver.find_elements_by_xpath(\"\")\n",
    "    time.sleep(3)\n",
    "    print(element.text)\n",
    "    \n",
    "except SessionNotCreated as e:\n",
    "    print(\"exception raised :\",e)\n",
    "    driver=webdriver.chrome('C:/Users/User/Downloads/chromedriver_win32/chromedriver.exe')\n",
    "    driver.get('')\n",
    "    Time Note=driver.find_elements_by_xpath(\"\")"
   ]
  },
  {
   "cell_type": "code",
   "execution_count": null,
   "metadata": {},
   "outputs": [],
   "source": [
    "try:\n",
    "    driver=webdriver.chrome('C:/Users/User/Downloads/chromedriver_win32/chromedriver.exe')\n",
    "    driver.get('')\n",
    "    element=driver.find_elements_by_xpath(\"\")\n",
    "    time.sleep(3)\n",
    "    print(element.text)\n",
    "    \n",
    "except SessionNotCreated as e:\n",
    "    print(\"exception raised :\",e)\n",
    "    driver=webdriver.chrome('C:/Users/User/Downloads/chromedriver_win32/chromedriver.exe')\n",
    "    driver.get('')\n",
    "    Time Note=driver.find_elements_by_xpath(\"\")"
   ]
  },
  {
   "cell_type": "code",
   "execution_count": null,
   "metadata": {},
   "outputs": [],
   "source": [
    "try:\n",
    "    driver=webdriver.chrome('C:/Users/User/Downloads/chromedriver_win32/chromedriver.exe')\n",
    "    driver.get('')\n",
    "    element=driver.find_elements_by_xpath(\"\")\n",
    "    time.sleep(3)\n",
    "    print(element.text)\n",
    "    \n",
    "except SessionNotCreated as e:\n",
    "    print(\"exception raised :\",e)\n",
    "    driver=webdriver.chrome('C:/Users/User/Downloads/chromedriver_win32/chromedriver.exe')\n",
    "    driver.get('')\n",
    "    Time Note=driver.find_elements_by_xpath(\"\")"
   ]
  },
  {
   "cell_type": "code",
   "execution_count": null,
   "metadata": {},
   "outputs": [],
   "source": [
    "try:\n",
    "    driver=webdriver.chrome('C:/Users/User/Downloads/chromedriver_win32/chromedriver.exe')\n",
    "    driver.get('')\n",
    "    element=driver.find_elements_by_xpath(\"\")\n",
    "    time.sleep(3)\n",
    "    print(element.text)\n",
    "    \n",
    "except SessionNotCreated as e:\n",
    "    print(\"exception raised :\",e)\n",
    "    driver=webdriver.chrome('C:/Users/User/Downloads/chromedriver_win32/chromedriver.exe')\n",
    "    driver.get('')\n",
    "    Time Note=driver.find_elements_by_xpath(\"\")"
   ]
  },
  {
   "cell_type": "code",
   "execution_count": null,
   "metadata": {},
   "outputs": [],
   "source": []
  },
  {
   "cell_type": "markdown",
   "metadata": {},
   "source": [
    "8. Scrape the details of Highest selling novels.\n",
    "Url = https://www.theguardian.com/news/datablog/2012/aug/09/best-selling-books-all-time-fifty-shades-grey\u0002compare/\n",
    "You have to find the following details:\n",
    "A) Book name\n",
    "B) Author name\n",
    "C) Volumes sold\n",
    "D) Publisher\n",
    "E) Genre"
   ]
  },
  {
   "cell_type": "code",
   "execution_count": null,
   "metadata": {},
   "outputs": [],
   "source": [
    "url=\"https://www.theguardian.com/news/datablog/2012/aug/09/best-selling-books-all-time-fifty-shades-grey\u0002compare/\"\n",
    "driver.get(url)"
   ]
  },
  {
   "cell_type": "code",
   "execution_count": null,
   "metadata": {},
   "outputs": [],
   "source": [
    "try:\n",
    "    driver=webdriver.chrome('C:/Users/User/Downloads/chromedriver_win32/chromedriver.exe')\n",
    "    driver.get('')\n",
    "    element=driver.find_elements_by_xpath(\"\")\n",
    "    time.sleep(3)\n",
    "    print(element.text)\n",
    "    \n",
    "except SessionNotCreated as e:\n",
    "    print(\"exception raised :\",e)\n",
    "    driver=webdriver.chrome('C:/Users/User/Downloads/chromedriver_win32/chromedriver.exe')\n",
    "    driver.get('')\n",
    "    Time Note=driver.find_elements_by_xpath(\"\")"
   ]
  },
  {
   "cell_type": "code",
   "execution_count": null,
   "metadata": {},
   "outputs": [],
   "source": [
    "try:\n",
    "    driver=webdriver.chrome('C:/Users/User/Downloads/chromedriver_win32/chromedriver.exe')\n",
    "    driver.get('')\n",
    "    element=driver.find_elements_by_xpath(\"\")\n",
    "    time.sleep(3)\n",
    "    print(element.text)\n",
    "    \n",
    "except SessionNotCreated as e:\n",
    "    print(\"exception raised :\",e)\n",
    "    driver=webdriver.chrome('C:/Users/User/Downloads/chromedriver_win32/chromedriver.exe')\n",
    "    driver.get('')\n",
    "    Time Note=driver.find_elements_by_xpath(\"\")"
   ]
  },
  {
   "cell_type": "code",
   "execution_count": null,
   "metadata": {},
   "outputs": [],
   "source": [
    "try:\n",
    "    driver=webdriver.chrome('C:/Users/User/Downloads/chromedriver_win32/chromedriver.exe')\n",
    "    driver.get('')\n",
    "    element=driver.find_elements_by_xpath(\"\")\n",
    "    time.sleep(3)\n",
    "    print(element.text)\n",
    "    \n",
    "except SessionNotCreated as e:\n",
    "    print(\"exception raised :\",e)\n",
    "    driver=webdriver.chrome('C:/Users/User/Downloads/chromedriver_win32/chromedriver.exe')\n",
    "    driver.get('')\n",
    "    Time Note=driver.find_elements_by_xpath(\"\")"
   ]
  },
  {
   "cell_type": "code",
   "execution_count": null,
   "metadata": {},
   "outputs": [],
   "source": [
    "try:\n",
    "    driver=webdriver.chrome('C:/Users/User/Downloads/chromedriver_win32/chromedriver.exe')\n",
    "    driver.get('')\n",
    "    element=driver.find_elements_by_xpath(\"\")\n",
    "    time.sleep(3)\n",
    "    print(element.text)\n",
    "    \n",
    "except SessionNotCreated as e:\n",
    "    print(\"exception raised :\",e)\n",
    "    driver=webdriver.chrome('C:/Users/User/Downloads/chromedriver_win32/chromedriver.exe')\n",
    "    driver.get('')\n",
    "    Time Note=driver.find_elements_by_xpath(\"\")"
   ]
  },
  {
   "cell_type": "code",
   "execution_count": null,
   "metadata": {},
   "outputs": [],
   "source": [
    "try:\n",
    "    driver=webdriver.chrome('C:/Users/User/Downloads/chromedriver_win32/chromedriver.exe')\n",
    "    driver.get('')\n",
    "    element=driver.find_elements_by_xpath(\"\")\n",
    "    time.sleep(3)\n",
    "    print(element.text)\n",
    "    \n",
    "except SessionNotCreated as e:\n",
    "    print(\"exception raised :\",e)\n",
    "    driver=webdriver.chrome('C:/Users/User/Downloads/chromedriver_win32/chromedriver.exe')\n",
    "    driver.get('')\n",
    "    Time Note=driver.find_elements_by_xpath(\"\")"
   ]
  },
  {
   "cell_type": "code",
   "execution_count": null,
   "metadata": {},
   "outputs": [],
   "source": [
    "try:\n",
    "    driver=webdriver.chrome('C:/Users/User/Downloads/chromedriver_win32/chromedriver.exe')\n",
    "    driver.get('')\n",
    "    element=driver.find_elements_by_xpath(\"\")\n",
    "    time.sleep(3)\n",
    "    print(element.text)\n",
    "    \n",
    "except SessionNotCreated as e:\n",
    "    print(\"exception raised :\",e)\n",
    "    driver=webdriver.chrome('C:/Users/User/Downloads/chromedriver_win32/chromedriver.exe')\n",
    "    driver.get('')\n",
    "    Time Note=driver.find_elements_by_xpath(\"\")"
   ]
  },
  {
   "cell_type": "code",
   "execution_count": null,
   "metadata": {},
   "outputs": [],
   "source": []
  },
  {
   "cell_type": "markdown",
   "metadata": {},
   "source": [
    "9. Scrape the details most watched tv series of all time from imdb.com.\n",
    " Url = https://www.imdb.com/list/ls095964455/\n",
    "You have to find the following details:\n",
    "A) Name\n",
    "B) Year span\n",
    "C) Genre\n",
    "D) Run time\n",
    "E) Ratings\n",
    "F) Votes"
   ]
  },
  {
   "cell_type": "code",
   "execution_count": null,
   "metadata": {},
   "outputs": [],
   "source": [
    "url=\"https://www.imdb.com/list/ls095964455/\"\n",
    "driver.get(url)"
   ]
  },
  {
   "cell_type": "code",
   "execution_count": null,
   "metadata": {},
   "outputs": [],
   "source": [
    "try:\n",
    "    driver=webdriver.chrome('C:/Users/User/Downloads/chromedriver_win32/chromedriver.exe')\n",
    "    driver.get('')\n",
    "    element=driver.find_elements_by_xpath(\"\")\n",
    "    time.sleep(3)\n",
    "    print(element.text)\n",
    "    \n",
    "except SessionNotCreated as e:\n",
    "    print(\"exception raised :\",e)\n",
    "    driver=webdriver.chrome('C:/Users/User/Downloads/chromedriver_win32/chromedriver.exe')\n",
    "    driver.get('')\n",
    "    Time Note=driver.find_elements_by_xpath(\"\")"
   ]
  },
  {
   "cell_type": "code",
   "execution_count": null,
   "metadata": {},
   "outputs": [],
   "source": [
    "try:\n",
    "    driver=webdriver.chrome('C:/Users/User/Downloads/chromedriver_win32/chromedriver.exe')\n",
    "    driver.get('')\n",
    "    element=driver.find_elements_by_xpath(\"\")\n",
    "    time.sleep(3)\n",
    "    print(element.text)\n",
    "    \n",
    "except SessionNotCreated as e:\n",
    "    print(\"exception raised :\",e)\n",
    "    driver=webdriver.chrome('C:/Users/User/Downloads/chromedriver_win32/chromedriver.exe')\n",
    "    driver.get('')\n",
    "    Time Note=driver.find_elements_by_xpath(\"\")"
   ]
  },
  {
   "cell_type": "code",
   "execution_count": null,
   "metadata": {},
   "outputs": [],
   "source": [
    "try:\n",
    "    driver=webdriver.chrome('C:/Users/User/Downloads/chromedriver_win32/chromedriver.exe')\n",
    "    driver.get('')\n",
    "    element=driver.find_elements_by_xpath(\"\")\n",
    "    time.sleep(3)\n",
    "    print(element.text)\n",
    "    \n",
    "except SessionNotCreated as e:\n",
    "    print(\"exception raised :\",e)\n",
    "    driver=webdriver.chrome('C:/Users/User/Downloads/chromedriver_win32/chromedriver.exe')\n",
    "    driver.get('')\n",
    "    Time Note=driver.find_elements_by_xpath(\"\")"
   ]
  },
  {
   "cell_type": "code",
   "execution_count": null,
   "metadata": {},
   "outputs": [],
   "source": [
    "try:\n",
    "    driver=webdriver.chrome('C:/Users/User/Downloads/chromedriver_win32/chromedriver.exe')\n",
    "    driver.get('')\n",
    "    element=driver.find_elements_by_xpath(\"\")\n",
    "    time.sleep(3)\n",
    "    print(element.text)\n",
    "    \n",
    "except SessionNotCreated as e:\n",
    "    print(\"exception raised :\",e)\n",
    "    driver=webdriver.chrome('C:/Users/User/Downloads/chromedriver_win32/chromedriver.exe')\n",
    "    driver.get('')\n",
    "    Time Note=driver.find_elements_by_xpath(\"\")"
   ]
  },
  {
   "cell_type": "code",
   "execution_count": null,
   "metadata": {},
   "outputs": [],
   "source": [
    "try:\n",
    "    driver=webdriver.chrome('C:/Users/User/Downloads/chromedriver_win32/chromedriver.exe')\n",
    "    driver.get('')\n",
    "    element=driver.find_elements_by_xpath(\"\")\n",
    "    time.sleep(3)\n",
    "    print(element.text)\n",
    "    \n",
    "except SessionNotCreated as e:\n",
    "    print(\"exception raised :\",e)\n",
    "    driver=webdriver.chrome('C:/Users/User/Downloads/chromedriver_win32/chromedriver.exe')\n",
    "    driver.get('')\n",
    "    Time Note=driver.find_elements_by_xpath(\"\")"
   ]
  },
  {
   "cell_type": "markdown",
   "metadata": {},
   "source": [
    "10. Details of Datasets from UCI machine learning repositories.\n",
    " Url = https://archive.ics.uci.edu/\n",
    " You have to find the following details:\n",
    "A) Dataset name\n",
    "B) Data type\n",
    "C) Task\n",
    "D) Attribute type\n",
    "E) No of instances\n",
    "F) No of attribute\n",
    "G) Year\n",
    "Note: - from the home page you have to go to the Show All Dataset page through code."
   ]
  },
  {
   "cell_type": "code",
   "execution_count": null,
   "metadata": {},
   "outputs": [],
   "source": [
    "url=\"https://archive.ics.uci.edu/\"\n",
    "driver.get(url)"
   ]
  },
  {
   "cell_type": "code",
   "execution_count": null,
   "metadata": {},
   "outputs": [],
   "source": [
    "try:\n",
    "    driver=webdriver.chrome('C:/Users/User/Downloads/chromedriver_win32/chromedriver.exe')\n",
    "    driver.get('')\n",
    "    element=driver.find_elements_by_xpath(\"\")\n",
    "    time.sleep(3)\n",
    "    print(element.text)\n",
    "    \n",
    "except SessionNotCreated as e:\n",
    "    print(\"exception raised :\",e)\n",
    "    driver=webdriver.chrome('C:/Users/User/Downloads/chromedriver_win32/chromedriver.exe')\n",
    "    driver.get('')\n",
    "    Time Note=driver.find_elements_by_xpath(\"\")"
   ]
  },
  {
   "cell_type": "code",
   "execution_count": null,
   "metadata": {},
   "outputs": [],
   "source": [
    "try:\n",
    "    driver=webdriver.chrome('C:/Users/User/Downloads/chromedriver_win32/chromedriver.exe')\n",
    "    driver.get('')\n",
    "    element=driver.find_elements_by_xpath(\"\")\n",
    "    time.sleep(3)\n",
    "    print(element.text)\n",
    "    \n",
    "except SessionNotCreated as e:\n",
    "    print(\"exception raised :\",e)\n",
    "    driver=webdriver.chrome('C:/Users/User/Downloads/chromedriver_win32/chromedriver.exe')\n",
    "    driver.get('')\n",
    "    Time Note=driver.find_elements_by_xpath(\"\")"
   ]
  },
  {
   "cell_type": "code",
   "execution_count": null,
   "metadata": {},
   "outputs": [],
   "source": [
    "try:\n",
    "    driver=webdriver.chrome('C:/Users/User/Downloads/chromedriver_win32/chromedriver.exe')\n",
    "    driver.get('')\n",
    "    element=driver.find_elements_by_xpath(\"\")\n",
    "    time.sleep(3)\n",
    "    print(element.text)\n",
    "    \n",
    "except SessionNotCreated as e:\n",
    "    print(\"exception raised :\",e)\n",
    "    driver=webdriver.chrome('C:/Users/User/Downloads/chromedriver_win32/chromedriver.exe')\n",
    "    driver.get('')\n",
    "    Time Note=driver.find_elements_by_xpath(\"\")"
   ]
  },
  {
   "cell_type": "code",
   "execution_count": null,
   "metadata": {},
   "outputs": [],
   "source": [
    "try:\n",
    "    driver=webdriver.chrome('C:/Users/User/Downloads/chromedriver_win32/chromedriver.exe')\n",
    "    driver.get('')\n",
    "    element=driver.find_elements_by_xpath(\"\")\n",
    "    time.sleep(3)\n",
    "    print(element.text)\n",
    "    \n",
    "except SessionNotCreated as e:\n",
    "    print(\"exception raised :\",e)\n",
    "    driver=webdriver.chrome('C:/Users/User/Downloads/chromedriver_win32/chromedriver.exe')\n",
    "    driver.get('')\n",
    "    Time Note=driver.find_elements_by_xpath(\"\")"
   ]
  },
  {
   "cell_type": "code",
   "execution_count": null,
   "metadata": {},
   "outputs": [],
   "source": [
    "try:\n",
    "    driver=webdriver.chrome('C:/Users/User/Downloads/chromedriver_win32/chromedriver.exe')\n",
    "    driver.get('')\n",
    "    element=driver.find_elements_by_xpath(\"\")\n",
    "    time.sleep(3)\n",
    "    print(element.text)\n",
    "    \n",
    "except SessionNotCreated as e:\n",
    "    print(\"exception raised :\",e)\n",
    "    driver=webdriver.chrome('C:/Users/User/Downloads/chromedriver_win32/chromedriver.exe')\n",
    "    driver.get('')\n",
    "    Time Note=driver.find_elements_by_xpath(\"\")"
   ]
  },
  {
   "cell_type": "code",
   "execution_count": null,
   "metadata": {},
   "outputs": [],
   "source": []
  },
  {
   "cell_type": "code",
   "execution_count": null,
   "metadata": {},
   "outputs": [],
   "source": [
    "from selenium.common.exceptions import TimeoutException"
   ]
  },
  {
   "cell_type": "code",
   "execution_count": null,
   "metadata": {},
   "outputs": [],
   "source": []
  },
  {
   "cell_type": "code",
   "execution_count": null,
   "metadata": {},
   "outputs": [],
   "source": [
    "driver=webdriver.chrome('C:/Users/User/Downloads/chromedriver_win32/chromedriver.exe')\n",
    "delay=5\n",
    "    "
   ]
  },
  {
   "cell_type": "code",
   "execution_count": null,
   "metadata": {},
   "outputs": [],
   "source": [
    "try:\n",
    "    driver.get('')\n",
    "    WebdriverWait(driver,delay).until(EC_presence_of_element_located((By.CLASS_NAME,\"\")))\n",
    "    element=driver.find_elements_by_xpath(\"\")\n",
    "    print(element.text)\n",
    "    \n",
    "except TimeoutException as e:\n",
    "    print(\"exception raised :\",e)\n",
    "    driver=webdriver.chrome('C:/Users/User/Downloads/chromedriver_win32/chromedriver.exe')\n",
    "    driver.get('')"
   ]
  }
 ],
 "metadata": {
  "kernelspec": {
   "display_name": "Python 3",
   "language": "python",
   "name": "python3"
  },
  "language_info": {
   "codemirror_mode": {
    "name": "ipython",
    "version": 3
   },
   "file_extension": ".py",
   "mimetype": "text/x-python",
   "name": "python",
   "nbconvert_exporter": "python",
   "pygments_lexer": "ipython3",
   "version": "3.8.5"
  }
 },
 "nbformat": 4,
 "nbformat_minor": 4
}
